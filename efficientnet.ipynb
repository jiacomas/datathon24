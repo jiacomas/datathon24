{
 "cells": [
  {
   "cell_type": "code",
   "execution_count": null,
   "metadata": {},
   "outputs": [],
   "source": []
  },
  {
   "cell_type": "markdown",
   "metadata": {},
   "source": [
    "# EfficientNet"
   ]
  },
  {
   "cell_type": "markdown",
   "metadata": {},
   "source": [
    "## Mount Drive"
   ]
  },
  {
   "cell_type": "code",
   "execution_count": null,
   "metadata": {},
   "outputs": [
    {
     "name": "stdout",
     "output_type": "stream",
     "text": [
      "Mounted at /content/drive\n"
     ]
    }
   ],
   "source": [
    "from google.colab import drive\n",
    "\n",
    "drive.mount('/content/drive')\n"
   ]
  },
  {
   "cell_type": "markdown",
   "metadata": {},
   "source": [
    "## Installation and import of the libraries"
   ]
  },
  {
   "cell_type": "code",
   "execution_count": 10,
   "metadata": {},
   "outputs": [
    {
     "name": "stdout",
     "output_type": "stream",
     "text": [
      "Requirement already satisfied: pandas in /home/gerard/miniconda3/lib/python3.11/site-packages (2.1.3)\n",
      "Requirement already satisfied: numpy<2,>=1.23.2 in /home/gerard/miniconda3/lib/python3.11/site-packages (from pandas) (1.26.1)\n",
      "Requirement already satisfied: python-dateutil>=2.8.2 in /home/gerard/.local/lib/python3.11/site-packages (from pandas) (2.9.0.post0)\n",
      "Requirement already satisfied: pytz>=2020.1 in /home/gerard/miniconda3/lib/python3.11/site-packages (from pandas) (2024.1)\n",
      "Requirement already satisfied: tzdata>=2022.1 in /home/gerard/miniconda3/lib/python3.11/site-packages (from pandas) (2023.3)\n",
      "Requirement already satisfied: six>=1.5 in /home/gerard/miniconda3/lib/python3.11/site-packages (from python-dateutil>=2.8.2->pandas) (1.16.0)\n",
      "Requirement already satisfied: numpy in /home/gerard/miniconda3/lib/python3.11/site-packages (1.26.1)\n",
      "Requirement already satisfied: scikit-learn in /home/gerard/miniconda3/lib/python3.11/site-packages (1.5.2)\n",
      "Requirement already satisfied: numpy>=1.19.5 in /home/gerard/miniconda3/lib/python3.11/site-packages (from scikit-learn) (1.26.1)\n",
      "Requirement already satisfied: scipy>=1.6.0 in /home/gerard/miniconda3/lib/python3.11/site-packages (from scikit-learn) (1.14.1)\n",
      "Requirement already satisfied: joblib>=1.2.0 in /home/gerard/miniconda3/lib/python3.11/site-packages (from scikit-learn) (1.4.2)\n",
      "Requirement already satisfied: threadpoolctl>=3.1.0 in /home/gerard/miniconda3/lib/python3.11/site-packages (from scikit-learn) (3.5.0)\n",
      "Requirement already satisfied: tensorflow in /home/gerard/miniconda3/lib/python3.11/site-packages (2.18.0)\n",
      "Requirement already satisfied: absl-py>=1.0.0 in /home/gerard/miniconda3/lib/python3.11/site-packages (from tensorflow) (2.1.0)\n",
      "Requirement already satisfied: astunparse>=1.6.0 in /home/gerard/miniconda3/lib/python3.11/site-packages (from tensorflow) (1.6.3)\n",
      "Requirement already satisfied: flatbuffers>=24.3.25 in /home/gerard/miniconda3/lib/python3.11/site-packages (from tensorflow) (24.3.25)\n",
      "Requirement already satisfied: gast!=0.5.0,!=0.5.1,!=0.5.2,>=0.2.1 in /home/gerard/miniconda3/lib/python3.11/site-packages (from tensorflow) (0.6.0)\n",
      "Requirement already satisfied: google-pasta>=0.1.1 in /home/gerard/miniconda3/lib/python3.11/site-packages (from tensorflow) (0.2.0)\n",
      "Requirement already satisfied: libclang>=13.0.0 in /home/gerard/miniconda3/lib/python3.11/site-packages (from tensorflow) (18.1.1)\n",
      "Requirement already satisfied: opt-einsum>=2.3.2 in /home/gerard/miniconda3/lib/python3.11/site-packages (from tensorflow) (3.4.0)\n",
      "Requirement already satisfied: packaging in /home/gerard/.local/lib/python3.11/site-packages (from tensorflow) (24.2)\n",
      "Requirement already satisfied: protobuf!=4.21.0,!=4.21.1,!=4.21.2,!=4.21.3,!=4.21.4,!=4.21.5,<6.0.0dev,>=3.20.3 in /home/gerard/miniconda3/lib/python3.11/site-packages (from tensorflow) (4.25.0)\n",
      "Requirement already satisfied: requests<3,>=2.21.0 in /home/gerard/miniconda3/lib/python3.11/site-packages (from tensorflow) (2.32.3)\n",
      "Requirement already satisfied: setuptools in /home/gerard/miniconda3/lib/python3.11/site-packages (from tensorflow) (69.1.1)\n",
      "Requirement already satisfied: six>=1.12.0 in /home/gerard/miniconda3/lib/python3.11/site-packages (from tensorflow) (1.16.0)\n",
      "Requirement already satisfied: termcolor>=1.1.0 in /home/gerard/miniconda3/lib/python3.11/site-packages (from tensorflow) (2.5.0)\n",
      "Requirement already satisfied: typing-extensions>=3.6.6 in /home/gerard/.local/lib/python3.11/site-packages (from tensorflow) (4.12.2)\n",
      "Requirement already satisfied: wrapt>=1.11.0 in /home/gerard/miniconda3/lib/python3.11/site-packages (from tensorflow) (1.16.0)\n",
      "Requirement already satisfied: grpcio<2.0,>=1.24.3 in /home/gerard/miniconda3/lib/python3.11/site-packages (from tensorflow) (1.68.0)\n",
      "Requirement already satisfied: tensorboard<2.19,>=2.18 in /home/gerard/miniconda3/lib/python3.11/site-packages (from tensorflow) (2.18.0)\n",
      "Requirement already satisfied: keras>=3.5.0 in /home/gerard/miniconda3/lib/python3.11/site-packages (from tensorflow) (3.6.0)\n",
      "Requirement already satisfied: numpy<2.1.0,>=1.26.0 in /home/gerard/miniconda3/lib/python3.11/site-packages (from tensorflow) (1.26.1)\n",
      "Requirement already satisfied: h5py>=3.11.0 in /home/gerard/miniconda3/lib/python3.11/site-packages (from tensorflow) (3.12.1)\n",
      "Requirement already satisfied: ml-dtypes<0.5.0,>=0.4.0 in /home/gerard/miniconda3/lib/python3.11/site-packages (from tensorflow) (0.4.1)\n",
      "Requirement already satisfied: tensorflow-io-gcs-filesystem>=0.23.1 in /home/gerard/miniconda3/lib/python3.11/site-packages (from tensorflow) (0.37.1)\n",
      "Requirement already satisfied: wheel<1.0,>=0.23.0 in /home/gerard/miniconda3/lib/python3.11/site-packages (from astunparse>=1.6.0->tensorflow) (0.42.0)\n",
      "Requirement already satisfied: rich in /home/gerard/miniconda3/lib/python3.11/site-packages (from keras>=3.5.0->tensorflow) (13.6.0)\n",
      "Requirement already satisfied: namex in /home/gerard/miniconda3/lib/python3.11/site-packages (from keras>=3.5.0->tensorflow) (0.0.8)\n",
      "Requirement already satisfied: optree in /home/gerard/miniconda3/lib/python3.11/site-packages (from keras>=3.5.0->tensorflow) (0.13.1)\n",
      "Requirement already satisfied: charset-normalizer<4,>=2 in /home/gerard/miniconda3/lib/python3.11/site-packages (from requests<3,>=2.21.0->tensorflow) (3.3.2)\n",
      "Requirement already satisfied: idna<4,>=2.5 in /home/gerard/miniconda3/lib/python3.11/site-packages (from requests<3,>=2.21.0->tensorflow) (3.7)\n",
      "Requirement already satisfied: urllib3<3,>=1.21.1 in /home/gerard/miniconda3/lib/python3.11/site-packages (from requests<3,>=2.21.0->tensorflow) (2.2.1)\n",
      "Requirement already satisfied: certifi>=2017.4.17 in /home/gerard/miniconda3/lib/python3.11/site-packages (from requests<3,>=2.21.0->tensorflow) (2024.2.2)\n",
      "Requirement already satisfied: markdown>=2.6.8 in /home/gerard/miniconda3/lib/python3.11/site-packages (from tensorboard<2.19,>=2.18->tensorflow) (3.7)\n",
      "Requirement already satisfied: tensorboard-data-server<0.8.0,>=0.7.0 in /home/gerard/miniconda3/lib/python3.11/site-packages (from tensorboard<2.19,>=2.18->tensorflow) (0.7.2)\n",
      "Requirement already satisfied: werkzeug>=1.0.1 in /home/gerard/miniconda3/lib/python3.11/site-packages (from tensorboard<2.19,>=2.18->tensorflow) (3.1.3)\n",
      "Requirement already satisfied: MarkupSafe>=2.1.1 in /home/gerard/miniconda3/lib/python3.11/site-packages (from werkzeug>=1.0.1->tensorboard<2.19,>=2.18->tensorflow) (2.1.3)\n",
      "Requirement already satisfied: markdown-it-py>=2.2.0 in /home/gerard/miniconda3/lib/python3.11/site-packages (from rich->keras>=3.5.0->tensorflow) (3.0.0)\n",
      "Requirement already satisfied: pygments<3.0.0,>=2.13.0 in /home/gerard/miniconda3/lib/python3.11/site-packages (from rich->keras>=3.5.0->tensorflow) (2.16.1)\n",
      "Requirement already satisfied: mdurl~=0.1 in /home/gerard/miniconda3/lib/python3.11/site-packages (from markdown-it-py>=2.2.0->rich->keras>=3.5.0->tensorflow) (0.1.2)\n",
      "Requirement already satisfied: efficientnet in /home/gerard/miniconda3/lib/python3.11/site-packages (1.1.1)\n",
      "Requirement already satisfied: keras-applications<=1.0.8,>=1.0.7 in /home/gerard/miniconda3/lib/python3.11/site-packages (from efficientnet) (1.0.8)\n",
      "Requirement already satisfied: scikit-image in /home/gerard/miniconda3/lib/python3.11/site-packages (from efficientnet) (0.24.0)\n",
      "Requirement already satisfied: numpy>=1.9.1 in /home/gerard/miniconda3/lib/python3.11/site-packages (from keras-applications<=1.0.8,>=1.0.7->efficientnet) (1.26.1)\n",
      "Requirement already satisfied: h5py in /home/gerard/miniconda3/lib/python3.11/site-packages (from keras-applications<=1.0.8,>=1.0.7->efficientnet) (3.12.1)\n",
      "Requirement already satisfied: scipy>=1.9 in /home/gerard/miniconda3/lib/python3.11/site-packages (from scikit-image->efficientnet) (1.14.1)\n",
      "Requirement already satisfied: networkx>=2.8 in /home/gerard/miniconda3/lib/python3.11/site-packages (from scikit-image->efficientnet) (3.4.2)\n",
      "Requirement already satisfied: pillow>=9.1 in /home/gerard/miniconda3/lib/python3.11/site-packages (from scikit-image->efficientnet) (10.2.0)\n",
      "Requirement already satisfied: imageio>=2.33 in /home/gerard/miniconda3/lib/python3.11/site-packages (from scikit-image->efficientnet) (2.36.0)\n",
      "Requirement already satisfied: tifffile>=2022.8.12 in /home/gerard/miniconda3/lib/python3.11/site-packages (from scikit-image->efficientnet) (2024.9.20)\n",
      "Requirement already satisfied: packaging>=21 in /home/gerard/.local/lib/python3.11/site-packages (from scikit-image->efficientnet) (24.2)\n",
      "Requirement already satisfied: lazy-loader>=0.4 in /home/gerard/miniconda3/lib/python3.11/site-packages (from scikit-image->efficientnet) (0.4)\n"
     ]
    }
   ],
   "source": [
    "!pip install pandas\n",
    "!pip install numpy\n",
    "!pip install scikit-learn\n",
    "!pip install tensorflow\n",
    "!pip install efficientnet\n",
    "import pandas as pd\n",
    "import numpy as np\n",
    "from sklearn.model_selection import train_test_split\n",
    "import os\n",
    "import tensorflow as tf\n",
    "from tensorflow.keras import layers, models\n",
    "import efficientnet.tfkeras as efn\n",
    "from tensorflow.keras.preprocessing import image\n",
    "\n"
   ]
  },
  {
   "cell_type": "markdown",
   "metadata": {},
   "source": [
    "## Preprocess"
   ]
  },
  {
   "cell_type": "code",
   "execution_count": 19,
   "metadata": {},
   "outputs": [],
   "source": [
    "dtypes = {\n",
    "    'cane_height_type': pd.Int64Dtype(),\n",
    "    'closure_placement': pd.Int64Dtype(),\n",
    "    'heel_shape_type': pd.Int64Dtype(),\n",
    "    'knit_structure': pd.Int64Dtype(),\n",
    "    'length_type': pd.Int64Dtype(),\n",
    "    'neck_lapel_type': pd.Int64Dtype(),\n",
    "    'silhouette_type': pd.Int64Dtype(),\n",
    "    'sleeve_length_type': pd.Int64Dtype(),\n",
    "    'toecap_type': pd.Int64Dtype(),\n",
    "    'waist_type': pd.Int64Dtype(),\n",
    "    'woven_structure': pd.Int64Dtype()\n",
    "}\n",
    "df = pd.read_csv(\"./archive/attribute_data_2.csv\", dtype=dtypes)\n",
    "product_data_df = pd.read_csv('./archive/product_data.csv')\n",
    "df = df.merge(product_data_df[['cod_modelo_color', 'des_filename']], on='cod_modelo_color', how='left')\n",
    "# img_dict = dict(zip(product_data_df['cod_modelo_color'], product_data_df['des_filename']))\n",
    "# Assume the CSV has columns ['image_id', 'attribute', 'value']\n",
    "# One-hot encode the 'value' column for each attribute\n",
    "attribute_columns = ['silhouette_type', 'neck_lapel_type', 'woven_structure', 'knit_structure',\n",
    "                     'heel_shape_type', 'length_type', 'sleeve_length_type', 'toecap_type',\n",
    "                     'waist_type', 'closure_placement', 'cane_height_type']\n",
    "\n",
    "base_path = \"./archive/images/images/\"\n",
    "df = df[df['des_filename'].apply(lambda x: os.path.exists(os.path.join(base_path, x)))]\n",
    "df.reset_index(drop=True, inplace=True)\n",
    "df = df.head(16000)"
   ]
  },
  {
   "cell_type": "code",
   "execution_count": 8,
   "metadata": {},
   "outputs": [],
   "source": [
    "start = 0\n",
    "end = 1000\n",
    "full_df = df"
   ]
  },
  {
   "cell_type": "code",
   "execution_count": 9,
   "metadata": {},
   "outputs": [],
   "source": [
    "df = full_df[start:end]\n",
    "start += 1000\n",
    "end += 1000"
   ]
  },
  {
   "cell_type": "code",
   "execution_count": 20,
   "metadata": {},
   "outputs": [],
   "source": [
    "\n",
    "# Split the data into training and testing sets\n",
    "train_df, test_df = train_test_split(df, test_size=0.2, random_state=42)\n",
    "\n",
    "\n",
    "\n",
    "def load_and_preprocess_image(image_path, label):\n",
    "    # Load and decode the image file\n",
    "    img = tf.io.read_file(image_path)\n",
    "    img = tf.image.decode_jpeg(img, channels=3)  # Decode the JPEG image (if you have other formats, use decode_image)\n",
    "\n",
    "    # Resize the image\n",
    "    img = tf.image.resize(img, [224, 224])\n",
    "\n",
    "    # Normalize the image\n",
    "    img = img / 255.0  # Normalize to [0, 1]\n",
    "\n",
    "    # Set the shape explicitly\n",
    "    img.set_shape([224, 224, 3])\n",
    "\n",
    "    return img, label\n",
    "\n",
    "def create_dataset(df, image_folder, batch_size=16):\n",
    "    # Convert filenames and labels into tensors\n",
    "    image_paths = df['des_filename'].apply(lambda x: os.path.join(image_folder, x)).values\n",
    "    labels = df[[\n",
    "        'silhouette_type',\n",
    "        'waist_type',\n",
    "        'neck_lapel_type',\n",
    "        'sleeve_length_type',\n",
    "        'toecap_type',\n",
    "        'closure_placement',\n",
    "        'cane_height_type',\n",
    "        'heel_shape_type',\n",
    "        'knit_structure',\n",
    "        'length_type',\n",
    "        'woven_structure'\n",
    "    ]].fillna(-1).values  # Replace NaNs with -1 if necessary\n",
    "\n",
    "    # Convert to TensorFlow tensors\n",
    "    image_paths = tf.convert_to_tensor(image_paths, dtype=tf.string)\n",
    "    labels = tf.convert_to_tensor(labels, dtype=tf.int32)\n",
    "\n",
    "    # Create a tf.data.Dataset from image paths and labels\n",
    "    dataset = tf.data.Dataset.from_tensor_slices((image_paths, labels))\n",
    "\n",
    "    # Apply the preprocessing function to load and preprocess images\n",
    "    dataset = dataset.map(load_and_preprocess_image, num_parallel_calls=tf.data.AUTOTUNE)\n",
    "\n",
    "    # Batch the data and prefetch for performance\n",
    "    dataset = dataset.batch(batch_size).prefetch(tf.data.AUTOTUNE)\n",
    "\n",
    "    return dataset\n",
    "\n",
    "# Create the train and test datasets\n",
    "train_dataset = create_dataset(train_df, './archive/images/images/')\n",
    "test_dataset = create_dataset(test_df, './archive/images/images/')"
   ]
  },
  {
   "cell_type": "markdown",
   "metadata": {},
   "source": [
    "## Build"
   ]
  },
  {
   "cell_type": "code",
   "execution_count": 21,
   "metadata": {},
   "outputs": [],
   "source": [
    "# Build the EfficientNet model\n",
    "base_model = efn.EfficientNetB0(weights='imagenet', include_top=False, input_shape=(224, 224, 3))\n",
    "base_model.trainable = False  # Freeze the base model\n",
    "\n",
    "# Create the model architecture\n",
    "inputs = layers.Input(shape=(224, 224, 3))\n",
    "x = base_model(inputs, training=False)\n",
    "x = layers.GlobalAveragePooling2D()(x)\n",
    "outputs = layers.Dense(len(attribute_columns), activation='sigmoid')(x)  # One output per attribute\n",
    "\n",
    "# Build and compile the model\n",
    "model = models.Model(inputs, outputs)\n",
    "model.compile(optimizer='adam', loss='binary_crossentropy', metrics=['accuracy'])\n"
   ]
  },
  {
   "cell_type": "markdown",
   "metadata": {},
   "source": [
    "## Train"
   ]
  },
  {
   "cell_type": "code",
   "execution_count": 18,
   "metadata": {},
   "outputs": [
    {
     "data": {
      "text/plain": [
       "<_ParallelMapDataset element_spec=(TensorSpec(shape=<unknown>, dtype=tf.float32, name=None), TensorSpec(shape=<unknown>, dtype=tf.int32, name=None))>"
      ]
     },
     "execution_count": 18,
     "metadata": {},
     "output_type": "execute_result"
    }
   ],
   "source": [
    "train_dataset"
   ]
  },
  {
   "cell_type": "code",
   "execution_count": 22,
   "metadata": {},
   "outputs": [
    {
     "name": "stdout",
     "output_type": "stream",
     "text": [
      "Epoch 1/5\n",
      "\u001b[1m800/800\u001b[0m \u001b[32m━━━━━━━━━━━━━━━━━━━━\u001b[0m\u001b[37m\u001b[0m \u001b[1m242s\u001b[0m 297ms/step - accuracy: 0.6858 - loss: -94.5623 - val_accuracy: 0.7131 - val_loss: -382.9436\n",
      "Epoch 2/5\n",
      "\u001b[1m800/800\u001b[0m \u001b[32m━━━━━━━━━━━━━━━━━━━━\u001b[0m\u001b[37m\u001b[0m \u001b[1m232s\u001b[0m 291ms/step - accuracy: 0.7226 - loss: -470.7144 - val_accuracy: 0.7131 - val_loss: -767.8943\n",
      "Epoch 3/5\n",
      "\u001b[1m800/800\u001b[0m \u001b[32m━━━━━━━━━━━━━━━━━━━━\u001b[0m\u001b[37m\u001b[0m \u001b[1m231s\u001b[0m 289ms/step - accuracy: 0.7226 - loss: -847.9926 - val_accuracy: 0.7134 - val_loss: -1153.4126\n",
      "Epoch 4/5\n",
      "\u001b[1m800/800\u001b[0m \u001b[32m━━━━━━━━━━━━━━━━━━━━\u001b[0m\u001b[37m\u001b[0m \u001b[1m233s\u001b[0m 291ms/step - accuracy: 0.7231 - loss: -1228.0515 - val_accuracy: 0.7128 - val_loss: -1539.2028\n",
      "Epoch 5/5\n",
      "\u001b[1m800/800\u001b[0m \u001b[32m━━━━━━━━━━━━━━━━━━━━\u001b[0m\u001b[37m\u001b[0m \u001b[1m233s\u001b[0m 291ms/step - accuracy: 0.7225 - loss: -1606.2124 - val_accuracy: 0.7131 - val_loss: -1924.7952\n"
     ]
    }
   ],
   "source": [
    "history = model.fit(\n",
    "    train_dataset,\n",
    "    epochs=5,\n",
    "    validation_data=test_dataset\n",
    ")"
   ]
  },
  {
   "cell_type": "markdown",
   "metadata": {},
   "source": [
    "## Test"
   ]
  },
  {
   "cell_type": "code",
   "execution_count": 23,
   "metadata": {},
   "outputs": [
    {
     "data": {
      "text/plain": [
       "<keras.src.callbacks.history.History at 0x792dc794f790>"
      ]
     },
     "execution_count": 23,
     "metadata": {},
     "output_type": "execute_result"
    }
   ],
   "source": [
    "history"
   ]
  },
  {
   "cell_type": "markdown",
   "metadata": {},
   "source": []
  }
 ],
 "metadata": {
  "kernelspec": {
   "display_name": "base",
   "language": "python",
   "name": "python3"
  },
  "language_info": {
   "codemirror_mode": {
    "name": "ipython",
    "version": 3
   },
   "file_extension": ".py",
   "mimetype": "text/x-python",
   "name": "python",
   "nbconvert_exporter": "python",
   "pygments_lexer": "ipython3",
   "version": "3.11.5"
  }
 },
 "nbformat": 4,
 "nbformat_minor": 2
}
